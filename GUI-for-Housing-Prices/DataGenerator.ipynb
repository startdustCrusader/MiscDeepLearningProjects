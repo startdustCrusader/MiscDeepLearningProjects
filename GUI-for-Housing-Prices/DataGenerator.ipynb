{
 "cells": [
  {
   "cell_type": "code",
   "execution_count": 29,
   "metadata": {},
   "outputs": [],
   "source": [
    "import matplotlib.pyplot as plt\n",
    "import numpy as np\n",
    "import random"
   ]
  },
  {
   "cell_type": "markdown",
   "metadata": {},
   "source": [
    "We generate data based on a line we choose as :\n",
    "![](eqn.png?raw=true)"
   ]
  },
  {
   "cell_type": "code",
   "execution_count": 34,
   "metadata": {},
   "outputs": [],
   "source": [
    "xdata = np.linspace(0,200,50)[:,np.newaxis]\n",
    "noise = np.random.normal(20,10,xdata.shape) # (mean,stddev,shape)\n",
    "ydata = 1000/(1+np.exp(-xdata/100 + 5)) + 0.6*noise"
   ]
  },
  {
   "cell_type": "code",
   "execution_count": 35,
   "metadata": {},
   "outputs": [
    {
     "data": {
      "image/png": "[encoded data removed]",
      "text/plain": [
       "<matplotlib.figure.Figure at 0x235eaf70208>"
      ]
     },
     "metadata": {},
     "output_type": "display_data"
    }
   ],
   "source": [
    "plt.scatter(xdata,ydata)\n",
    "plt.show()"
   ]
  },
  {
   "cell_type": "code",
   "execution_count": 36,
   "metadata": {},
   "outputs": [],
   "source": [
    "from sklearn.linear_model import Ridge\n",
    "from sklearn.preprocessing import PolynomialFeatures\n",
    "from sklearn.pipeline import make_pipeline"
   ]
  },
  {
   "cell_type": "code",
   "execution_count": 37,
   "metadata": {},
   "outputs": [
    {
     "name": "stderr",
     "output_type": "stream",
     "text": [
      "c:\\python35\\lib\\site-packages\\scipy\\linalg\\basic.py:40: RuntimeWarning: scipy.linalg.solve\n",
      "Ill-conditioned matrix detected. Result is not guaranteed to be accurate.\n",
      "Reciprocal condition number/precision: 2.8025081990353657e-24 / 1.1102230246251565e-16\n",
      "  RuntimeWarning)\n"
     ]
    },
    {
     "data": {
      "text/plain": [
       "<matplotlib.collections.PathCollection at 0x235eafe7518>"
      ]
     },
     "execution_count": 37,
     "metadata": {},
     "output_type": "execute_result"
    },
    {
     "data": {
      "image/png": "[encoded data removed]",
      "text/plain": [
       "<matplotlib.figure.Figure at 0x235eaf6cba8>"
      ]
     },
     "metadata": {},
     "output_type": "display_data"
    }
   ],
   "source": [
    "degree = 5\n",
    "lw = 2\n",
    "count = 0\n",
    "colors = ['teal', 'yellowgreen', 'gold']\n",
    "model = make_pipeline(PolynomialFeatures(degree), Ridge())\n",
    "model.fit(xdata,ydata)\n",
    "y_plot = model.predict(xdata)\n",
    "plt.plot(xdata, y_plot, color=colors[count], linewidth=lw,\n",
    "         label=\"degree %d\" % degree)\n",
    "plt.scatter(xdata,ydata)"
   ]
  },
  {
   "cell_type": "code",
   "execution_count": 13,
   "metadata": {},
   "outputs": [
    {
     "data": {
      "text/plain": [
       "array([[  0.        ],\n",
       "       [  4.08163265],\n",
       "       [  8.16326531],\n",
       "       [ 12.24489796],\n",
       "       [ 16.32653061],\n",
       "       [ 20.40816327],\n",
       "       [ 24.48979592],\n",
       "       [ 28.57142857],\n",
       "       [ 32.65306122],\n",
       "       [ 36.73469388],\n",
       "       [ 40.81632653],\n",
       "       [ 44.89795918],\n",
       "       [ 48.97959184],\n",
       "       [ 53.06122449],\n",
       "       [ 57.14285714],\n",
       "       [ 61.2244898 ],\n",
       "       [ 65.30612245],\n",
       "       [ 69.3877551 ],\n",
       "       [ 73.46938776],\n",
       "       [ 77.55102041],\n",
       "       [ 81.63265306],\n",
       "       [ 85.71428571],\n",
       "       [ 89.79591837],\n",
       "       [ 93.87755102],\n",
       "       [ 97.95918367],\n",
       "       [102.04081633],\n",
       "       [106.12244898],\n",
       "       [110.20408163],\n",
       "       [114.28571429],\n",
       "       [118.36734694],\n",
       "       [122.44897959],\n",
       "       [126.53061224],\n",
       "       [130.6122449 ],\n",
       "       [134.69387755],\n",
       "       [138.7755102 ],\n",
       "       [142.85714286],\n",
       "       [146.93877551],\n",
       "       [151.02040816],\n",
       "       [155.10204082],\n",
       "       [159.18367347],\n",
       "       [163.26530612],\n",
       "       [167.34693878],\n",
       "       [171.42857143],\n",
       "       [175.51020408],\n",
       "       [179.59183673],\n",
       "       [183.67346939],\n",
       "       [187.75510204],\n",
       "       [191.83673469],\n",
       "       [195.91836735],\n",
       "       [200.        ]])"
      ]
     },
     "execution_count": 13,
     "metadata": {},
     "output_type": "execute_result"
    }
   ],
   "source": [
    "xdata"
   ]
  },
  {
   "cell_type": "code",
   "execution_count": 14,
   "metadata": {},
   "outputs": [],
   "source": [
    "import pymysql\n",
    "conn = pymysql.connect(\"localhost\",\"root\",\"\",\"boston_housing\")\n",
    "myCursor = conn.cursor()\n"
   ]
  },
  {
   "cell_type": "code",
   "execution_count": 15,
   "metadata": {},
   "outputs": [],
   "source": [
    "myCursor.execute(\"select sqft,price from pricevssqft;\")\n",
    "x = myCursor.fetchall()"
   ]
  },
  {
   "cell_type": "code",
   "execution_count": 16,
   "metadata": {},
   "outputs": [],
   "source": [
    "xdatan = []\n",
    "ydatan = []\n",
    "for i in x:\n",
    "    xdatan.append(i[0])\n",
    "    ydatan.append(i[1])\n"
   ]
  },
  {
   "cell_type": "code",
   "execution_count": 17,
   "metadata": {},
   "outputs": [
    {
     "data": {
      "text/plain": [
       "<matplotlib.collections.PathCollection at 0x1d1ef809c88>"
      ]
     },
     "execution_count": 17,
     "metadata": {},
     "output_type": "execute_result"
    },
    {
     "data": {
      "image/png": "[encoded data removed]",
      "text/plain": [
       "<matplotlib.figure.Figure at 0x1d1ef7b57f0>"
      ]
     },
     "metadata": {},
     "output_type": "display_data"
    }
   ],
   "source": [
    "xdatan = np.array(xdatan).reshape(1, -1)\n",
    "ydatan = np.array(ydatan).reshape(1, -1)\n",
    "plt.scatter(xdatan,ydatan)"
   ]
  },
  {
   "cell_type": "code",
   "execution_count": 18,
   "metadata": {},
   "outputs": [
    {
     "data": {
      "text/plain": [
       "(1, 50)"
      ]
     },
     "execution_count": 18,
     "metadata": {},
     "output_type": "execute_result"
    }
   ],
   "source": [
    "xdatan.shape"
   ]
  },
  {
   "cell_type": "code",
   "execution_count": 26,
   "metadata": {},
   "outputs": [
    {
     "data": {
      "text/plain": [
       "<matplotlib.collections.PathCollection at 0x1d1ef9cc470>"
      ]
     },
     "execution_count": 26,
     "metadata": {},
     "output_type": "execute_result"
    },
    {
     "data": {
      "image/png": "[encoded data removed]",
      "text/plain": [
       "<matplotlib.figure.Figure at 0x1d1ef751908>"
      ]
     },
     "metadata": {},
     "output_type": "display_data"
    }
   ],
   "source": [
    "degree = 3\n",
    "lw = 2\n",
    "count = 1\n",
    "colors = ['teal', 'yellowgreen', 'gold']\n",
    "model = make_pipeline(PolynomialFeatures(degree), Ridge())\n",
    "model.fit(xdata,ydata)\n",
    "opt = model.predict(xdata)\n",
    "plt.plot(xdata, opt, color=colors[count], linewidth=lw,\n",
    "         label=\"degree %d\" % degree)\n",
    "plt.scatter(xdata,ydata)"
   ]
  },
  {
   "cell_type": "code",
   "execution_count": 27,
   "metadata": {},
   "outputs": [
    {
     "data": {
      "text/plain": [
       "array([[  1.95093631],\n",
       "       [ 14.90925135],\n",
       "       [ 26.97819523],\n",
       "       [ 38.18683088],\n",
       "       [ 48.56422121],\n",
       "       [ 58.13942913],\n",
       "       [ 66.94151756],\n",
       "       [ 74.99954941],\n",
       "       [ 82.3425876 ],\n",
       "       [ 88.99969504],\n",
       "       [ 94.99993465],\n",
       "       [100.37236935],\n",
       "       [105.14606204],\n",
       "       [109.35007564],\n",
       "       [113.01347307],\n",
       "       [116.16531725],\n",
       "       [118.83467108],\n",
       "       [121.05059749],\n",
       "       [122.84215939],\n",
       "       [124.23841968],\n",
       "       [125.2684413 ],\n",
       "       [125.96128715],\n",
       "       [126.34602015],\n",
       "       [126.45170321],\n",
       "       [126.30739925],\n",
       "       [125.94217119],\n",
       "       [125.38508193],\n",
       "       [124.6651944 ],\n",
       "       [123.8115715 ],\n",
       "       [122.85327616],\n",
       "       [121.81937129],\n",
       "       [120.7389198 ],\n",
       "       [119.64098461],\n",
       "       [118.55462864],\n",
       "       [117.50891479],\n",
       "       [116.53290599],\n",
       "       [115.65566515],\n",
       "       [114.90625518],\n",
       "       [114.313739  ],\n",
       "       [113.90717952],\n",
       "       [113.71563967],\n",
       "       [113.76818234],\n",
       "       [114.09387047],\n",
       "       [114.72176696],\n",
       "       [115.68093473],\n",
       "       [117.0004367 ],\n",
       "       [118.70933578],\n",
       "       [120.83669487],\n",
       "       [123.41157691],\n",
       "       [126.46304481]])"
      ]
     },
     "execution_count": 27,
     "metadata": {},
     "output_type": "execute_result"
    }
   ],
   "source": [
    "opt"
   ]
  },
  {
   "cell_type": "code",
   "execution_count": 28,
   "metadata": {},
   "outputs": [
    {
     "data": {
      "text/plain": [
       "array([[  0.     ,   4.08163,   8.16327,  12.2449 ,  16.3265 ,  20.4082 ,\n",
       "         24.4898 ,  28.5714 ,  32.6531 ,  36.7347 ,  40.8163 ,  44.898  ,\n",
       "         48.9796 ,  53.0612 ,  57.1429 ,  61.2245 ,  65.3061 ,  69.3878 ,\n",
       "         73.4694 ,  77.551  ,  81.6327 ,  85.7143 ,  89.7959 ,  93.8775 ,\n",
       "         97.9592 , 102.041  , 106.122  , 110.204  , 114.286  , 118.367  ,\n",
       "        122.449  , 126.531  , 130.612  , 134.694  , 138.776  , 142.857  ,\n",
       "        146.939  , 151.02   , 155.102  , 159.184  , 163.265  , 167.347  ,\n",
       "        171.429  , 175.51   , 179.592  , 183.673  , 187.755  , 191.837  ,\n",
       "        195.918  , 200.     ]])"
      ]
     },
     "execution_count": 28,
     "metadata": {},
     "output_type": "execute_result"
    }
   ],
   "source": [
    "xdatan"
   ]
  },
  {
   "cell_type": "code",
   "execution_count": 29,
   "metadata": {},
   "outputs": [],
   "source": [
    "xn = []\n",
    "for i in opt[0]:\n",
    "    p = []\n",
    "    p.append(i)\n",
    "    xn.append(p)\n",
    "xn = np.array(xn)"
   ]
  },
  {
   "cell_type": "code",
   "execution_count": 30,
   "metadata": {},
   "outputs": [],
   "source": [
    "yn = []\n",
    "for i in xdatan[0]:\n",
    "    x = []\n",
    "    x.append(i)\n",
    "    yn.append(x)\n",
    "yn = np.array(yn)"
   ]
  },
  {
   "cell_type": "code",
   "execution_count": 32,
   "metadata": {},
   "outputs": [
    {
     "data": {
      "text/plain": [
       "<matplotlib.collections.PathCollection at 0x1d1efa4c390>"
      ]
     },
     "execution_count": 32,
     "metadata": {},
     "output_type": "execute_result"
    },
    {
     "data": {
      "image/png": "[encoded data removed]",
      "text/plain": [
       "<matplotlib.figure.Figure at 0x1d1efa0de80>"
      ]
     },
     "metadata": {},
     "output_type": "display_data"
    }
   ],
   "source": [
    "plt.plot(xdata, y_plot, color=colors[count], linewidth=lw,\n",
    "         label=\"degree %d\" % degree)\n",
    "plt.scatter(xdatan,ydatan)"
   ]
  },
  {
   "cell_type": "code",
   "execution_count": null,
   "metadata": {},
   "outputs": [],
   "source": []
  }
 ],
 "metadata": {
  "kernelspec": {
   "display_name": "Python 3",
   "language": "python",
   "name": "python3"
  },
  "language_info": {
   "codemirror_mode": {
    "name": "ipython",
    "version": 3
   },
   "file_extension": ".py",
   "mimetype": "text/x-python",
   "name": "python",
   "nbconvert_exporter": "python",
   "pygments_lexer": "ipython3",
   "version": "3.5.0"
  }
 },
 "nbformat": 4,
 "nbformat_minor": 2
}
